{
  "nbformat": 4,
  "nbformat_minor": 0,
  "metadata": {
    "colab": {
      "name": "Updated-CNN-with-CIFAR-10.ipynb",
      "provenance": [],
      "authorship_tag": "ABX9TyN/qKeUJezmdpI20yW1xwqe",
      "include_colab_link": true
    },
    "kernelspec": {
      "name": "python3",
      "display_name": "Python 3"
    }
  },
  "cells": [
    {
      "cell_type": "markdown",
      "metadata": {
        "id": "view-in-github",
        "colab_type": "text"
      },
      "source": [
        "<a href=\"https://colab.research.google.com/github/lagamaite/Colab-Notebooks/blob/master/Updated_CNN_with_CIFAR_10.ipynb\" target=\"_parent\"><img src=\"https://colab.research.google.com/assets/colab-badge.svg\" alt=\"Open In Colab\"/></a>"
      ]
    },
    {
      "cell_type": "code",
      "metadata": {
        "id": "8QILKbfqdccU",
        "colab_type": "code",
        "colab": {}
      },
      "source": [
        "#https://appliedmachinelearning.blog/2018/03/24/achieving-90-accuracy-in-object-recognition-task-on-cifar-10-dataset-with-keras-convolutional-neural-networks/\n",
        "import keras\n",
        "from keras.models import Sequential\n",
        "from keras.utils import np_utils\n",
        "from keras.preprocessing.image import ImageDataGenerator\n",
        "from keras.layers import Dense, Activation, Flatten, Dropout, BatchNormalization\n",
        "from keras.layers import Conv2D, MaxPooling2D\n",
        "from keras.datasets import cifar10\n",
        "from keras import regularizers\n",
        "from keras.callbacks import LearningRateScheduler\n",
        "import numpy as np  \n",
        "\n",
        "!pip install tensorflow==1.14.0"
      ],
      "execution_count": 0,
      "outputs": []
    },
    {
      "cell_type": "code",
      "metadata": {
        "id": "Rqm52KDudwAN",
        "colab_type": "code",
        "outputId": "c42851a1-8763-414a-be92-cdff662f1da0",
        "colab": {
          "base_uri": "https://localhost:8080/",
          "height": 51
        }
      },
      "source": [
        "def lr_schedule(epoch):\n",
        "    lrate = 0.001\n",
        "    if epoch > 75:\n",
        "        lrate = 0.0005\n",
        "    elif epoch > 100:\n",
        "        lrate = 0.0003        \n",
        "    return lrate\n",
        "\n",
        "(x_train, y_train), (x_test, y_test) = cifar10.load_data()\n",
        "x_train = x_train.astype('float32')\n",
        "x_test = x_test.astype('float32')"
      ],
      "execution_count": 0,
      "outputs": [
        {
          "output_type": "stream",
          "text": [
            "Downloading data from https://www.cs.toronto.edu/~kriz/cifar-10-python.tar.gz\n",
            "170500096/170498071 [==============================] - 2s 0us/step\n"
          ],
          "name": "stdout"
        }
      ]
    },
    {
      "cell_type": "code",
      "metadata": {
        "id": "oqCQDJi-d5Mu",
        "colab_type": "code",
        "colab": {}
      },
      "source": [
        "#z-score\n",
        "mean = np.mean(x_train,axis=(0,1,2,3))\n",
        "std = np.std(x_train,axis=(0,1,2,3))\n",
        "x_train = (x_train-mean)/(std+1e-7)\n",
        "x_test = (x_test-mean)/(std+1e-7)\n",
        "\n",
        "num_classes = 10\n",
        "#catagorical labels on model\n",
        "y_train = np_utils.to_categorical(y_train,num_classes)\n",
        "y_test = np_utils.to_categorical(y_test,num_classes)"
      ],
      "execution_count": 0,
      "outputs": []
    },
    {
      "cell_type": "code",
      "metadata": {
        "id": "8SOU3Y9SeEeV",
        "colab_type": "code",
        "colab": {}
      },
      "source": [
        "#increasing dropout by .1, sequential linear model with tensors, weight decay param, \n",
        "\n",
        "weight_decay = 1e-4\n",
        "model = Sequential()\n",
        "model.add(Conv2D(32, (3,3), padding='same', kernel_regularizer=regularizers.l2(weight_decay), input_shape=x_train.shape[1:]))\n",
        "# exponential linear unit\n",
        "model.add(Activation('elu'))\n",
        "model.add(BatchNormalization())\n",
        "model.add(Conv2D(32, (3,3), padding='same', kernel_regularizer=regularizers.l2(weight_decay)))\n",
        "model.add(Activation('elu'))\n",
        "model.add(BatchNormalization())\n",
        "model.add(MaxPooling2D(pool_size=(2,2)))\n",
        "model.add(Dropout(0.2))\n",
        "\n",
        "model.add(Conv2D(64, (3,3), padding='same', kernel_regularizer=regularizers.l2(weight_decay)))\n",
        "model.add(Activation('elu'))\n",
        "model.add(BatchNormalization())\n",
        "model.add(Conv2D(64, (3,3), padding='same', kernel_regularizer=regularizers.l2(weight_decay)))\n",
        "model.add(Activation('elu'))\n",
        "model.add(BatchNormalization())\n",
        "model.add(MaxPooling2D(pool_size=(2,2)))\n",
        "model.add(Dropout(0.3))\n",
        "\n",
        "model.add(Conv2D(128, (3,3), padding='same', kernel_regularizer=regularizers.l2(weight_decay)))\n",
        "model.add(Activation('elu'))\n",
        "model.add(BatchNormalization())\n",
        "model.add(Conv2D(128, (3,3), padding='same', kernel_regularizer=regularizers.l2(weight_decay)))\n",
        "model.add(Activation('elu'))\n",
        "model.add(BatchNormalization())\n",
        "model.add(MaxPooling2D(pool_size=(2,2)))\n",
        "model.add(Dropout(0.4))\n",
        "\n",
        "model.add(Flatten())\n",
        "model.add(Dense(num_classes, activation='softmax'))"
      ],
      "execution_count": 0,
      "outputs": []
    },
    {
      "cell_type": "code",
      "metadata": {
        "id": "-ea2VcoUeFo6",
        "colab_type": "code",
        "outputId": "0716665a-1775-47ab-d58e-d6724e2d7e7d",
        "colab": {
          "base_uri": "https://localhost:8080/",
          "height": 1000
        }
      },
      "source": [
        "model.summary()"
      ],
      "execution_count": 0,
      "outputs": [
        {
          "output_type": "stream",
          "text": [
            "Model: \"sequential_1\"\n",
            "_________________________________________________________________\n",
            "Layer (type)                 Output Shape              Param #   \n",
            "=================================================================\n",
            "conv2d_1 (Conv2D)            (None, 32, 32, 32)        896       \n",
            "_________________________________________________________________\n",
            "activation_1 (Activation)    (None, 32, 32, 32)        0         \n",
            "_________________________________________________________________\n",
            "batch_normalization_1 (Batch (None, 32, 32, 32)        128       \n",
            "_________________________________________________________________\n",
            "conv2d_2 (Conv2D)            (None, 32, 32, 32)        9248      \n",
            "_________________________________________________________________\n",
            "activation_2 (Activation)    (None, 32, 32, 32)        0         \n",
            "_________________________________________________________________\n",
            "batch_normalization_2 (Batch (None, 32, 32, 32)        128       \n",
            "_________________________________________________________________\n",
            "max_pooling2d_1 (MaxPooling2 (None, 16, 16, 32)        0         \n",
            "_________________________________________________________________\n",
            "dropout_1 (Dropout)          (None, 16, 16, 32)        0         \n",
            "_________________________________________________________________\n",
            "conv2d_3 (Conv2D)            (None, 16, 16, 64)        18496     \n",
            "_________________________________________________________________\n",
            "activation_3 (Activation)    (None, 16, 16, 64)        0         \n",
            "_________________________________________________________________\n",
            "batch_normalization_3 (Batch (None, 16, 16, 64)        256       \n",
            "_________________________________________________________________\n",
            "conv2d_4 (Conv2D)            (None, 16, 16, 64)        36928     \n",
            "_________________________________________________________________\n",
            "activation_4 (Activation)    (None, 16, 16, 64)        0         \n",
            "_________________________________________________________________\n",
            "batch_normalization_4 (Batch (None, 16, 16, 64)        256       \n",
            "_________________________________________________________________\n",
            "max_pooling2d_2 (MaxPooling2 (None, 8, 8, 64)          0         \n",
            "_________________________________________________________________\n",
            "dropout_2 (Dropout)          (None, 8, 8, 64)          0         \n",
            "_________________________________________________________________\n",
            "conv2d_5 (Conv2D)            (None, 8, 8, 128)         73856     \n",
            "_________________________________________________________________\n",
            "activation_5 (Activation)    (None, 8, 8, 128)         0         \n",
            "_________________________________________________________________\n",
            "batch_normalization_5 (Batch (None, 8, 8, 128)         512       \n",
            "_________________________________________________________________\n",
            "conv2d_6 (Conv2D)            (None, 8, 8, 128)         147584    \n",
            "_________________________________________________________________\n",
            "activation_6 (Activation)    (None, 8, 8, 128)         0         \n",
            "_________________________________________________________________\n",
            "batch_normalization_6 (Batch (None, 8, 8, 128)         512       \n",
            "_________________________________________________________________\n",
            "max_pooling2d_3 (MaxPooling2 (None, 4, 4, 128)         0         \n",
            "_________________________________________________________________\n",
            "dropout_3 (Dropout)          (None, 4, 4, 128)         0         \n",
            "_________________________________________________________________\n",
            "flatten_1 (Flatten)          (None, 2048)              0         \n",
            "_________________________________________________________________\n",
            "dense_1 (Dense)              (None, 10)                20490     \n",
            "=================================================================\n",
            "Total params: 309,290\n",
            "Trainable params: 308,394\n",
            "Non-trainable params: 896\n",
            "_________________________________________________________________\n"
          ],
          "name": "stdout"
        }
      ]
    },
    {
      "cell_type": "code",
      "metadata": {
        "id": "96vfM31xeMe7",
        "colab_type": "code",
        "colab": {}
      },
      "source": [
        "#data augmentation\n",
        "datagen = ImageDataGenerator(\n",
        "    rotation_range=15,\n",
        "    width_shift_range=0.1,\n",
        "    height_shift_range=0.1,\n",
        "    horizontal_flip=True,\n",
        "    )\n",
        "datagen.fit(x_train)"
      ],
      "execution_count": 0,
      "outputs": []
    },
    {
      "cell_type": "code",
      "metadata": {
        "id": "2dCPyIsYlRpP",
        "colab_type": "code",
        "colab": {}
      },
      "source": [
        "from matplotlib import pyplot as plt\n",
        "# Configure batch size and retrieve one batch of images\n",
        "for X_batch, y_batch in datagen.flow(x_train, y_train, batch_size=9):\n",
        "    # Show 9 images\n",
        "    for i in range(0, 9):\n",
        "        plt.subplot(330 + 1 + i)\n",
        "        plt.imshow(toimage(X_batch[i].reshape(img_rows, img_cols, 3)))\n",
        "    # show the plot\n",
        "    plt.show()\n",
        "    break"
      ],
      "execution_count": 0,
      "outputs": []
    },
    {
      "cell_type": "code",
      "metadata": {
        "id": "orcZoERoeRN0",
        "colab_type": "code",
        "outputId": "85e4c7fa-8cc2-4e3b-bab6-357c71586dd3",
        "colab": {
          "base_uri": "https://localhost:8080/",
          "height": 1000
        }
      },
      "source": [
        "#training\n",
        "batch_size = 64\n",
        "# with 125 epochs this reaches 89.87%. with more epochs this should pass 90%\n",
        "opt_rms = keras.optimizers.rmsprop(lr=0.001,decay=1e-6)\n",
        "model.compile(loss='categorical_crossentropy', optimizer=opt_rms, metrics=['accuracy'])\n",
        "model.fit_generator(datagen.flow(x_train, y_train, batch_size=batch_size),\\\n",
        "                    steps_per_epoch=x_train.shape[0] // batch_size,epochs=25,\\\n",
        "                    verbose=1,validation_data=(x_test,y_test),callbacks=[LearningRateScheduler(lr_schedule)])"
      ],
      "execution_count": 0,
      "outputs": [
        {
          "output_type": "stream",
          "text": [
            "WARNING:tensorflow:From /usr/local/lib/python3.6/dist-packages/keras/optimizers.py:793: The name tf.train.Optimizer is deprecated. Please use tf.compat.v1.train.Optimizer instead.\n",
            "\n",
            "WARNING:tensorflow:From /usr/local/lib/python3.6/dist-packages/tensorflow/python/ops/math_grad.py:1250: add_dispatch_support.<locals>.wrapper (from tensorflow.python.ops.array_ops) is deprecated and will be removed in a future version.\n",
            "Instructions for updating:\n",
            "Use tf.where in 2.0, which has the same broadcast rule as np.where\n",
            "Epoch 1/25\n",
            "781/781 [==============================] - 615s 787ms/step - loss: 1.9110 - acc: 0.4244 - val_loss: 1.5375 - val_acc: 0.5614\n",
            "Epoch 2/25\n",
            "781/781 [==============================] - 619s 792ms/step - loss: 1.3024 - acc: 0.5884 - val_loss: 1.0446 - val_acc: 0.6721\n",
            "Epoch 3/25\n",
            "781/781 [==============================] - 624s 799ms/step - loss: 1.1015 - acc: 0.6542 - val_loss: 0.8845 - val_acc: 0.7261\n",
            "Epoch 4/25\n",
            "781/781 [==============================] - 631s 808ms/step - loss: 0.9896 - acc: 0.6901 - val_loss: 0.9263 - val_acc: 0.7187\n",
            "Epoch 5/25\n",
            "781/781 [==============================] - 627s 803ms/step - loss: 0.9294 - acc: 0.7121 - val_loss: 0.8272 - val_acc: 0.7567\n",
            "Epoch 6/25\n",
            "781/781 [==============================] - 629s 805ms/step - loss: 0.8824 - acc: 0.7314 - val_loss: 0.8220 - val_acc: 0.7646\n",
            "Epoch 7/25\n",
            "781/781 [==============================] - 626s 802ms/step - loss: 0.8500 - acc: 0.7444 - val_loss: 0.7818 - val_acc: 0.7706\n",
            "Epoch 8/25\n",
            "781/781 [==============================] - 630s 806ms/step - loss: 0.8163 - acc: 0.7555 - val_loss: 0.7407 - val_acc: 0.7887\n",
            "Epoch 9/25\n",
            "781/781 [==============================] - 624s 799ms/step - loss: 0.7959 - acc: 0.7658 - val_loss: 0.7140 - val_acc: 0.7947\n",
            "Epoch 10/25\n",
            "781/781 [==============================] - 630s 806ms/step - loss: 0.7723 - acc: 0.7735 - val_loss: 0.8778 - val_acc: 0.7568\n",
            "Epoch 11/25\n",
            "781/781 [==============================] - 633s 810ms/step - loss: 0.7592 - acc: 0.7793 - val_loss: 0.7261 - val_acc: 0.8008\n",
            "Epoch 12/25\n",
            "781/781 [==============================] - 635s 813ms/step - loss: 0.7476 - acc: 0.7864 - val_loss: 0.8223 - val_acc: 0.7785\n",
            "Epoch 13/25\n",
            "781/781 [==============================] - 644s 825ms/step - loss: 0.7295 - acc: 0.7918 - val_loss: 0.6971 - val_acc: 0.8120\n",
            "Epoch 14/25\n",
            "781/781 [==============================] - 644s 825ms/step - loss: 0.7197 - acc: 0.7962 - val_loss: 0.7143 - val_acc: 0.8060\n",
            "Epoch 15/25\n",
            "781/781 [==============================] - 645s 826ms/step - loss: 0.7105 - acc: 0.7989 - val_loss: 0.7713 - val_acc: 0.7966\n",
            "Epoch 16/25\n",
            "781/781 [==============================] - 647s 829ms/step - loss: 0.7027 - acc: 0.8037 - val_loss: 0.6837 - val_acc: 0.8147\n",
            "Epoch 17/25\n",
            "781/781 [==============================] - 645s 825ms/step - loss: 0.6949 - acc: 0.8067 - val_loss: 0.6474 - val_acc: 0.8352\n",
            "Epoch 18/25\n",
            "781/781 [==============================] - 640s 820ms/step - loss: 0.6842 - acc: 0.8089 - val_loss: 0.7757 - val_acc: 0.7935\n",
            "Epoch 19/25\n",
            "781/781 [==============================] - 643s 823ms/step - loss: 0.6798 - acc: 0.8135 - val_loss: 0.6145 - val_acc: 0.8373\n",
            "Epoch 20/25\n",
            "781/781 [==============================] - 638s 817ms/step - loss: 0.6727 - acc: 0.8151 - val_loss: 0.6678 - val_acc: 0.8264\n",
            "Epoch 21/25\n",
            "781/781 [==============================] - 633s 810ms/step - loss: 0.6716 - acc: 0.8184 - val_loss: 0.6951 - val_acc: 0.8173\n",
            "Epoch 22/25\n",
            "781/781 [==============================] - 631s 808ms/step - loss: 0.6612 - acc: 0.8201 - val_loss: 0.6407 - val_acc: 0.8352\n",
            "Epoch 23/25\n",
            "781/781 [==============================] - 629s 806ms/step - loss: 0.6646 - acc: 0.8193 - val_loss: 0.6219 - val_acc: 0.8426\n",
            "Epoch 24/25\n",
            "781/781 [==============================] - 628s 804ms/step - loss: 0.6630 - acc: 0.8211 - val_loss: 0.7451 - val_acc: 0.8070\n",
            "Epoch 25/25\n",
            "781/781 [==============================] - 625s 800ms/step - loss: 0.6528 - acc: 0.8246 - val_loss: 0.6337 - val_acc: 0.8386\n"
          ],
          "name": "stdout"
        },
        {
          "output_type": "execute_result",
          "data": {
            "text/plain": [
              "<keras.callbacks.History at 0x7f155095d3c8>"
            ]
          },
          "metadata": {
            "tags": []
          },
          "execution_count": 8
        }
      ]
    },
    {
      "cell_type": "code",
      "metadata": {
        "id": "brsoCKmGGEYA",
        "colab_type": "code",
        "colab": {}
      },
      "source": [
        "plt.show()"
      ],
      "execution_count": 0,
      "outputs": []
    },
    {
      "cell_type": "code",
      "metadata": {
        "id": "aNZR8xwYeVba",
        "colab_type": "code",
        "colab": {}
      },
      "source": [
        "#testing\n",
        "scores = model.evaluate(x_test, y_test, batch_size=128, verbose=1)\n",
        "print('\\nTest result: %.3f loss: %.3f' % (scores[1]*100,scores[0]))"
      ],
      "execution_count": 0,
      "outputs": []
    }
  ]
}